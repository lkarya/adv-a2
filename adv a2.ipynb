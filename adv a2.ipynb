{
 "cells": [
  {
   "cell_type": "code",
   "execution_count": 1,
   "id": "20e780b5",
   "metadata": {},
   "outputs": [],
   "source": [
    "# Q1. What is the relationship between classes and modules?\n",
    "\n",
    "#A Modules are files present inside a package, whereas a class is used to encapsulate data and functions together inside the same unit."
   ]
  },
  {
   "cell_type": "code",
   "execution_count": 2,
   "id": "05bd6048",
   "metadata": {},
   "outputs": [],
   "source": [
    "# Q2. How do you make instances and classes?\n",
    "\n",
    "#A Class − A user-defined prototype for an object that defines a set of attributes that characterize any object of the class. The attributes are data members (class variables and instance variables) and methods, accessed via dot notation."
   ]
  },
  {
   "cell_type": "code",
   "execution_count": 6,
   "id": "5a1724c0",
   "metadata": {},
   "outputs": [],
   "source": [
    "# Q3. Where and how should be class attributes created?\n",
    "\n",
    "#A Class attributes are the variables defined directly in the class that are shared by all objects of the class. Instance attributes are attributes or properties attached to an instance of a class. Instance attributes are defined in the constructor. Defined directly inside a class.   "
   ]
  },
  {
   "cell_type": "code",
   "execution_count": 8,
   "id": "9fca32dd",
   "metadata": {},
   "outputs": [
    {
     "name": "stdout",
     "output_type": "stream",
     "text": [
      "Address of self =  1150123874096\n",
      "Address of class object =  1150123874096\n"
     ]
    }
   ],
   "source": [
    "# Q4. What does the term self in a Python class mean?\n",
    "\n",
    "\n",
    "class check:\n",
    "    def __init__(self):\n",
    "        print(\"Address of self = \",id(self))\n",
    " \n",
    "obj = check()\n",
    "print(\"Address of class object = \",id(obj))"
   ]
  },
  {
   "cell_type": "code",
   "execution_count": null,
   "id": "129eb7e7",
   "metadata": {},
   "outputs": [],
   "source": [
    "# Q5 How does a Python class handle operator overloading?\n",
    "\n",
    "#A The operator overloading in Python means provide extended meaning beyond their predefined operational meaning. Such as, we use the \"+\" operator for adding two integers as well as joining two strings or merging two lists. We can achieve this as the \"+\" operator is overloaded by the \"int\" class and \"str\" class."
   ]
  }
 ],
 "metadata": {
  "kernelspec": {
   "display_name": "Python 3 (ipykernel)",
   "language": "python",
   "name": "python3"
  },
  "language_info": {
   "codemirror_mode": {
    "name": "ipython",
    "version": 3
   },
   "file_extension": ".py",
   "mimetype": "text/x-python",
   "name": "python",
   "nbconvert_exporter": "python",
   "pygments_lexer": "ipython3",
   "version": "3.9.7"
  }
 },
 "nbformat": 4,
 "nbformat_minor": 5
}
